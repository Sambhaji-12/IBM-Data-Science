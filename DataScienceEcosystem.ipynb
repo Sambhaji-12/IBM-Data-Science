{
 "cells": [
  {
   "cell_type": "markdown",
   "id": "8e4e8247",
   "metadata": {},
   "source": [
    "Data Science Tools and Ecosystem"
   ]
  },
  {
   "cell_type": "markdown",
   "id": "131f246a",
   "metadata": {},
   "source": [
    "In this notebook, Data Science Tools and Ecosystem are summarized."
   ]
  },
  {
   "cell_type": "markdown",
   "id": "b129eeea",
   "metadata": {},
   "source": [
    "Data science languages :\n",
    "1. Python\n",
    "2. R\n",
    "3. SQL\n",
    "4. SCALA\n",
    "5. JAVA\n",
    "6. C++\n",
    "7. Julia\n",
    "8. PHP\n",
    "9. GO\n",
    "10. Ruby"
   ]
  },
  {
   "cell_type": "markdown",
   "id": "08ef756a",
   "metadata": {},
   "source": [
    "Data science libraries -\n",
    "\n",
    "1. Pandas\n",
    "\n",
    "2. Numpy\n",
    "\n",
    "3. Matplotlib\n",
    "\n",
    "4. Seaborn\n",
    "\n",
    "5. Scikit-learn\n",
    "\n",
    "6. Keras\n",
    "\n",
    "7. TensorFlow\n",
    "\n",
    "8. PyTorch\n",
    "\n",
    "9. Apache Spark\n",
    "\n",
    "10. Vegas\n",
    "\n",
    "11. Big DL\n",
    "\n",
    "12. Ggplot2"
   ]
  },
  {
   "cell_type": "markdown",
   "id": "1ec6bff3",
   "metadata": {},
   "source": [
    "Data science tools\n",
    "\n",
    "1. Anaconda\n",
    "2. Jupyter Notebook\n",
    "3. Vs code\n",
    "4. R studio\n",
    "5. Spyder"
   ]
  },
  {
   "cell_type": "markdown",
   "id": "1a5888fd",
   "metadata": {},
   "source": [
    "Below are a few examples of evaluating arithmetic expressions in Python"
   ]
  },
  {
   "cell_type": "markdown",
   "id": "2729d22b",
   "metadata": {},
   "source": [
    "This a simple arithmetic expression to mutiply then add integers."
   ]
  },
  {
   "cell_type": "markdown",
   "id": "7ef5b822",
   "metadata": {},
   "source": [
    "This will convert 200 minutes to hours by diving by 60."
   ]
  },
  {
   "cell_type": "code",
   "execution_count": 1,
   "id": "a6dae07d",
   "metadata": {},
   "outputs": [
    {
     "data": {
      "text/plain": [
       "3.3333333333333335"
      ]
     },
     "execution_count": 1,
     "metadata": {},
     "output_type": "execute_result"
    }
   ],
   "source": [
    "200/60"
   ]
  },
  {
   "cell_type": "markdown",
   "id": "01511143",
   "metadata": {},
   "source": [
    "Objectives\n",
    "\n",
    "1. Create a Jupyter Notebook\n",
    "\n",
    "2. Insert code and markdown cells\n",
    "\n",
    "3. Share your notebook through GitHub"
   ]
  },
  {
   "cell_type": "markdown",
   "id": "00610179",
   "metadata": {},
   "source": [
    "<h1 style=\"background-color:DodgerBlue;\">Author </h1>\n",
    "<h2 style=\"color:Tomato;\">@sam</h2>\n"
   ]
  },
  {
   "cell_type": "code",
   "execution_count": null,
   "id": "a8a8e925",
   "metadata": {},
   "outputs": [],
   "source": []
  }
 ],
 "metadata": {
  "kernelspec": {
   "display_name": "Python 3 (ipykernel)",
   "language": "python",
   "name": "python3"
  },
  "language_info": {
   "codemirror_mode": {
    "name": "ipython",
    "version": 3
   },
   "file_extension": ".py",
   "mimetype": "text/x-python",
   "name": "python",
   "nbconvert_exporter": "python",
   "pygments_lexer": "ipython3",
   "version": "3.9.12"
  }
 },
 "nbformat": 4,
 "nbformat_minor": 5
}
